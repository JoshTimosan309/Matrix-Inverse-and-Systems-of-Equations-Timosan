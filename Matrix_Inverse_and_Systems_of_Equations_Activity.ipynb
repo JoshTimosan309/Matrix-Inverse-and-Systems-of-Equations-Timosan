{
  "nbformat": 4,
  "nbformat_minor": 0,
  "metadata": {
    "colab": {
      "provenance": []
    },
    "kernelspec": {
      "name": "python3",
      "display_name": "Python 3"
    },
    "language_info": {
      "name": "python"
    }
  },
  "cells": [
    {
      "cell_type": "markdown",
      "source": [
        "#Matrix Inverse and Systems of Equations Activity\n"
      ],
      "metadata": {
        "id": "FLFjrUCJvmNn"
      }
    },
    {
      "cell_type": "code",
      "execution_count": 1,
      "metadata": {
        "id": "472iMKgivJiH"
      },
      "outputs": [],
      "source": [
        "import numpy as np"
      ]
    },
    {
      "cell_type": "markdown",
      "source": [
        "# Problem 1: Find the inverse of matrix A = [[3, 4], [2, 5]]"
      ],
      "metadata": {
        "id": "S_AjBz33vXRT"
      }
    },
    {
      "cell_type": "code",
      "source": [
        "print(\"Problem 1:\")\n",
        "A1 = np.array([[3, 4],\n",
        "               [2, 5]])\n",
        "try:\n",
        "    A1_inv = np.linalg.inv(A1)\n",
        "    print(\"The inverse of matrix A is:\")\n",
        "    print(A1_inv)\n",
        "    # Verify the result\n",
        "    print(\"\\nVerification (A * A^-1 should be identity matrix):\")\n",
        "    print(np.round(A1.dot(A1_inv), decimals=10))\n",
        "except np.linalg.LinAlgError:\n",
        "    print(\"Matrix is not invertible\")"
      ],
      "metadata": {
        "colab": {
          "base_uri": "https://localhost:8080/"
        },
        "id": "jaGUm7DcvM7P",
        "outputId": "5529dff6-7a5d-4148-a139-8f611688259e"
      },
      "execution_count": 2,
      "outputs": [
        {
          "output_type": "stream",
          "name": "stdout",
          "text": [
            "Problem 1:\n",
            "The inverse of matrix A is:\n",
            "[[ 0.71428571 -0.57142857]\n",
            " [-0.28571429  0.42857143]]\n",
            "\n",
            "Verification (A * A^-1 should be identity matrix):\n",
            "[[ 1.  0.]\n",
            " [-0.  1.]]\n"
          ]
        }
      ]
    },
    {
      "cell_type": "markdown",
      "source": [
        "# Problem 2: Solve system of equations"
      ],
      "metadata": {
        "id": "vJcApItPvaDe"
      }
    },
    {
      "cell_type": "code",
      "source": [
        "print(\"Problem 2:\")\n",
        "# 2x + 3y = 7\n",
        "# 4x - y = 5\n",
        "A2 = np.array([[2, 3],\n",
        "               [4, -1]])\n",
        "b2 = np.array([7, 5])\n",
        "solution2 = np.linalg.solve(A2, b2)\n",
        "print(\"Solution for x and y:\")\n",
        "print(f\"x = {solution2[0]}\")\n",
        "print(f\"y = {solution2[1]}\")"
      ],
      "metadata": {
        "colab": {
          "base_uri": "https://localhost:8080/"
        },
        "id": "ilbuYw0uvOy4",
        "outputId": "adbc3221-6595-467d-ad76-3676ccff125f"
      },
      "execution_count": 3,
      "outputs": [
        {
          "output_type": "stream",
          "name": "stdout",
          "text": [
            "Problem 2:\n",
            "Solution for x and y:\n",
            "x = 1.5714285714285714\n",
            "y = 1.2857142857142858\n"
          ]
        }
      ]
    },
    {
      "cell_type": "markdown",
      "source": [
        "# Problem 3: Find inverse of 3x3 matrix"
      ],
      "metadata": {
        "id": "Rb8mgDWavb2i"
      }
    },
    {
      "cell_type": "code",
      "source": [
        "print(\"Problem 3:\")\n",
        "A3 = np.array([[1, 2, 3],\n",
        "               [0, 1, 4],\n",
        "               [5, 6, 0]])\n",
        "try:\n",
        "    A3_inv = np.linalg.inv(A3)\n",
        "    print(\"The inverse of matrix A is:\")\n",
        "    print(A3_inv)\n",
        "    # Verify the result\n",
        "    print(\"\\nVerification (A * A^-1 should be identity matrix):\")\n",
        "    print(np.round(A3.dot(A3_inv), decimals=10))\n",
        "except np.linalg.LinAlgError:\n",
        "    print(\"Matrix is not invertible\")"
      ],
      "metadata": {
        "colab": {
          "base_uri": "https://localhost:8080/"
        },
        "id": "wMiqlXNGvQHp",
        "outputId": "0201b25b-8f15-48b8-c6ce-e2b329a2a47d"
      },
      "execution_count": 4,
      "outputs": [
        {
          "output_type": "stream",
          "name": "stdout",
          "text": [
            "Problem 3:\n",
            "The inverse of matrix A is:\n",
            "[[-24.  18.   5.]\n",
            " [ 20. -15.  -4.]\n",
            " [ -5.   4.   1.]]\n",
            "\n",
            "Verification (A * A^-1 should be identity matrix):\n",
            "[[ 1. -0.  0.]\n",
            " [ 0.  1.  0.]\n",
            " [ 0. -0.  1.]]\n"
          ]
        }
      ]
    },
    {
      "cell_type": "markdown",
      "source": [
        "# Problem 4: Solve system of 3 equations"
      ],
      "metadata": {
        "id": "dBN0PBy6vdqA"
      }
    },
    {
      "cell_type": "code",
      "source": [
        "print(\"Problem 4:\")\n",
        "# x + y + z = 6\n",
        "# 2x + 5y + z = -4\n",
        "# 2x + 3y + 8z = 9\n",
        "A4 = np.array([[1, 1, 1],\n",
        "               [2, 5, 1],\n",
        "               [2, 3, 8]])\n",
        "b4 = np.array([6, -4, 9])\n",
        "solution4 = np.linalg.solve(A4, b4)\n",
        "print(\"Solution for x, y, and z:\")\n",
        "print(f\"x = {solution4[0]}\")\n",
        "print(f\"y = {solution4[1]}\")\n",
        "print(f\"z = {solution4[2]}\")"
      ],
      "metadata": {
        "colab": {
          "base_uri": "https://localhost:8080/"
        },
        "id": "LYCot3gqvRj_",
        "outputId": "94759667-5fd1-4d3d-d5b6-464a2e6d6d90"
      },
      "execution_count": 5,
      "outputs": [
        {
          "output_type": "stream",
          "name": "stdout",
          "text": [
            "Problem 4:\n",
            "Solution for x, y, and z:\n",
            "x = 10.842105263157894\n",
            "y = -5.2105263157894735\n",
            "z = 0.3684210526315789\n"
          ]
        }
      ]
    },
    {
      "cell_type": "markdown",
      "source": [
        "# Problem 5: Solve matrix equation Ax = b"
      ],
      "metadata": {
        "id": "ux2YJxfVvfbc"
      }
    },
    {
      "cell_type": "code",
      "source": [
        "print(\"Problem 5:\")\n",
        "A5 = np.array([[4, -1, 0],\n",
        "               [3, 5, 2],\n",
        "               [-2, 4, 1]])\n",
        "b5 = np.array([5, 6, 2])\n",
        "solution5 = np.linalg.solve(A5, b5)\n",
        "print(\"Solution for x vector:\")\n",
        "print(solution5)"
      ],
      "metadata": {
        "colab": {
          "base_uri": "https://localhost:8080/"
        },
        "id": "A_XI3H1JvSzS",
        "outputId": "bfe13cce-0d4e-487d-f146-ceeb7d07df8d"
      },
      "execution_count": 6,
      "outputs": [
        {
          "output_type": "stream",
          "name": "stdout",
          "text": [
            "Problem 5:\n",
            "Solution for x vector:\n",
            "[  2.6   5.4 -14.4]\n"
          ]
        }
      ]
    },
    {
      "cell_type": "markdown",
      "source": [
        "# Bonus Challenge: Function to check invertibility and find inverse"
      ],
      "metadata": {
        "id": "rz0vpZytvhW7"
      }
    },
    {
      "cell_type": "code",
      "source": [
        "def check_and_inverse(matrix):\n",
        "    try:\n",
        "        det = np.linalg.det(matrix)\n",
        "        if abs(det) < 1e-10:  # Check if determinant is effectively zero\n",
        "            print(\"Matrix is not invertible (determinant is zero)\")\n",
        "            return None\n",
        "        inverse = np.linalg.inv(matrix)\n",
        "        return inverse\n",
        "    except np.linalg.LinAlgError:\n",
        "        print(\"Matrix is not invertible\")\n",
        "        return None\n",
        "\n",
        "print(\"Bonus Challenge - Testing the function:\")\n",
        "test_matrix = np.array([[1, 2], [2, 4]])  # Non-invertible matrix\n",
        "result = check_and_inverse(test_matrix)\n",
        "if result is not None:\n",
        "    print(\"Inverse exists:\")\n",
        "    print(result)"
      ],
      "metadata": {
        "colab": {
          "base_uri": "https://localhost:8080/"
        },
        "id": "TajREmgEvVdX",
        "outputId": "45d9d2fb-41a1-41a6-f980-b430485891d1"
      },
      "execution_count": 7,
      "outputs": [
        {
          "output_type": "stream",
          "name": "stdout",
          "text": [
            "Bonus Challenge - Testing the function:\n",
            "Matrix is not invertible (determinant is zero)\n"
          ]
        }
      ]
    }
  ]
}